{
 "cells": [
  {
   "cell_type": "code",
   "execution_count": 1,
   "id": "gentle-logan",
   "metadata": {},
   "outputs": [],
   "source": [
    "import torch\n",
    "import numpy as np\n",
    "import pandas as pd\n",
    "import scipy.sparse as sp\n",
    "\n",
    "import sys\n",
    "sys.path.append(\"../..\")\n",
    "\n",
    "from metrics import print_binary_classification_metrics\n",
    "\n",
    "from MOFGCN.model import GModel\n",
    "from MOFGCN.optimizer import Optimizer\n",
    "from MOFGCN.Entire_Drug_Cell.sampler import Sampler\n",
    "from MOFGCN.myutils import roc_auc, translate_result, dir_path, exp_similarity, full_kernel, sparse_kernel, jaccard_coef, torch_corr_x_y"
   ]
  },
  {
   "cell_type": "code",
   "execution_count": 2,
   "id": "radical-baking",
   "metadata": {},
   "outputs": [],
   "source": [
    "data_dir = '../../../../MOFGCN_/'\n",
    "\n",
    "cna = pd.read_csv(data_dir + \"nci60GeneCop.csv\", index_col=0).T.fillna(0)\n",
    "mutation = pd.read_csv(data_dir + \"nci60GeneMut.csv\", index_col=0).T.fillna(0)\n",
    "\n",
    "cna = np.array(cna, dtype=np.float32)\n",
    "mutation = np.array(mutation, dtype=np.float32)"
   ]
  },
  {
   "cell_type": "code",
   "execution_count": 3,
   "id": "developmental-bookmark",
   "metadata": {
    "scrolled": true
   },
   "outputs": [],
   "source": [
    "gene = pd.read_csv('/home/kuangr/inoue019/drGAT/baseline/nci60_gene_exp.csv', index_col=0).T\n",
    "drug_response = pd.read_csv('/home/kuangr/inoue019/drGAT/baseline/nci60Act.csv', index_col=0)\n",
    "drug_response.columns = gene.index\n",
    "gene = np.array(gene, dtype=np.float32)"
   ]
  },
  {
   "cell_type": "code",
   "execution_count": 4,
   "id": "parallel-leeds",
   "metadata": {},
   "outputs": [
    {
     "data": {
      "text/plain": [
       "(269, 2)"
      ]
     },
     "execution_count": 4,
     "metadata": {},
     "output_type": "execute_result"
    }
   ],
   "source": [
    "nsc_class = pd.read_csv('/home/kuangr/inoue019/drGAT/results/nsc_cid_smiles_class_name.csv', index_col=0)[['NSC', 'MECHANISM']]\n",
    "nsc_class = nsc_class[nsc_class.MECHANISM == 'DNA']\n",
    "nsc_class.shape"
   ]
  },
  {
   "cell_type": "code",
   "execution_count": 5,
   "id": "green-peace",
   "metadata": {
    "scrolled": true
   },
   "outputs": [
    {
     "data": {
      "text/html": [
       "<div>\n",
       "<style scoped>\n",
       "    .dataframe tbody tr th:only-of-type {\n",
       "        vertical-align: middle;\n",
       "    }\n",
       "\n",
       "    .dataframe tbody tr th {\n",
       "        vertical-align: top;\n",
       "    }\n",
       "\n",
       "    .dataframe thead th {\n",
       "        text-align: right;\n",
       "    }\n",
       "</style>\n",
       "<table border=\"1\" class=\"dataframe\">\n",
       "  <thead>\n",
       "    <tr style=\"text-align: right;\">\n",
       "      <th></th>\n",
       "      <th>MCF7</th>\n",
       "      <th>MDA_MB_231</th>\n",
       "      <th>HS578T</th>\n",
       "      <th>BT_549</th>\n",
       "      <th>T47D</th>\n",
       "      <th>SF_268</th>\n",
       "      <th>SF_295</th>\n",
       "      <th>SF_539</th>\n",
       "      <th>SNB_19</th>\n",
       "      <th>SNB_75</th>\n",
       "      <th>...</th>\n",
       "      <th>PC_3</th>\n",
       "      <th>DU_145</th>\n",
       "      <th>786_0</th>\n",
       "      <th>A498</th>\n",
       "      <th>ACHN</th>\n",
       "      <th>CAKI_1</th>\n",
       "      <th>RXF_393</th>\n",
       "      <th>SN12C</th>\n",
       "      <th>TK_10</th>\n",
       "      <th>UO_31</th>\n",
       "    </tr>\n",
       "  </thead>\n",
       "  <tbody>\n",
       "    <tr>\n",
       "      <th>740</th>\n",
       "      <td>0.703626</td>\n",
       "      <td>-1.219032</td>\n",
       "      <td>-1.892792</td>\n",
       "      <td>-0.877267</td>\n",
       "      <td>-1.156158</td>\n",
       "      <td>0.510978</td>\n",
       "      <td>0.536910</td>\n",
       "      <td>0.589970</td>\n",
       "      <td>-0.356387</td>\n",
       "      <td>-1.460314</td>\n",
       "      <td>...</td>\n",
       "      <td>0.626838</td>\n",
       "      <td>0.507493</td>\n",
       "      <td>0.682664</td>\n",
       "      <td>-0.891882</td>\n",
       "      <td>0.499337</td>\n",
       "      <td>0.541612</td>\n",
       "      <td>-1.400771</td>\n",
       "      <td>0.602244</td>\n",
       "      <td>-1.641942</td>\n",
       "      <td>0.231533</td>\n",
       "    </tr>\n",
       "    <tr>\n",
       "      <th>752</th>\n",
       "      <td>0.475296</td>\n",
       "      <td>-0.312852</td>\n",
       "      <td>-1.089067</td>\n",
       "      <td>-0.441030</td>\n",
       "      <td>-0.058619</td>\n",
       "      <td>0.057507</td>\n",
       "      <td>0.125700</td>\n",
       "      <td>0.111693</td>\n",
       "      <td>-3.285729</td>\n",
       "      <td>-0.114051</td>\n",
       "      <td>...</td>\n",
       "      <td>-0.321691</td>\n",
       "      <td>0.507798</td>\n",
       "      <td>0.384102</td>\n",
       "      <td>-1.314527</td>\n",
       "      <td>-0.318444</td>\n",
       "      <td>0.557175</td>\n",
       "      <td>0.345056</td>\n",
       "      <td>-0.047731</td>\n",
       "      <td>0.155244</td>\n",
       "      <td>-0.160223</td>\n",
       "    </tr>\n",
       "    <tr>\n",
       "      <th>755</th>\n",
       "      <td>0.704027</td>\n",
       "      <td>-0.438857</td>\n",
       "      <td>-0.548744</td>\n",
       "      <td>-1.441942</td>\n",
       "      <td>0.496864</td>\n",
       "      <td>0.096265</td>\n",
       "      <td>-0.082186</td>\n",
       "      <td>0.417634</td>\n",
       "      <td>-1.927502</td>\n",
       "      <td>-0.372021</td>\n",
       "      <td>...</td>\n",
       "      <td>0.123647</td>\n",
       "      <td>0.543639</td>\n",
       "      <td>0.623318</td>\n",
       "      <td>-1.374212</td>\n",
       "      <td>-0.173024</td>\n",
       "      <td>0.314436</td>\n",
       "      <td>-1.002183</td>\n",
       "      <td>-0.881252</td>\n",
       "      <td>0.491364</td>\n",
       "      <td>-0.183200</td>\n",
       "    </tr>\n",
       "    <tr>\n",
       "      <th>762</th>\n",
       "      <td>0.547964</td>\n",
       "      <td>-1.033803</td>\n",
       "      <td>-1.399273</td>\n",
       "      <td>-0.538268</td>\n",
       "      <td>1.137432</td>\n",
       "      <td>0.135942</td>\n",
       "      <td>-0.094460</td>\n",
       "      <td>0.562628</td>\n",
       "      <td>-1.398911</td>\n",
       "      <td>-1.050409</td>\n",
       "      <td>...</td>\n",
       "      <td>-0.294845</td>\n",
       "      <td>0.934592</td>\n",
       "      <td>0.591263</td>\n",
       "      <td>-0.552673</td>\n",
       "      <td>1.797227</td>\n",
       "      <td>1.260987</td>\n",
       "      <td>0.172806</td>\n",
       "      <td>0.869675</td>\n",
       "      <td>-0.529810</td>\n",
       "      <td>-0.634413</td>\n",
       "    </tr>\n",
       "    <tr>\n",
       "      <th>1390</th>\n",
       "      <td>0.517269</td>\n",
       "      <td>0.960399</td>\n",
       "      <td>-1.710657</td>\n",
       "      <td>-0.260192</td>\n",
       "      <td>-0.428596</td>\n",
       "      <td>-2.369012</td>\n",
       "      <td>0.224249</td>\n",
       "      <td>-1.481654</td>\n",
       "      <td>-2.369012</td>\n",
       "      <td>-0.950229</td>\n",
       "      <td>...</td>\n",
       "      <td>0.534589</td>\n",
       "      <td>0.819455</td>\n",
       "      <td>0.091197</td>\n",
       "      <td>-0.188655</td>\n",
       "      <td>0.800745</td>\n",
       "      <td>1.468891</td>\n",
       "      <td>0.182377</td>\n",
       "      <td>-0.100527</td>\n",
       "      <td>0.519999</td>\n",
       "      <td>-0.167908</td>\n",
       "    </tr>\n",
       "    <tr>\n",
       "      <th>...</th>\n",
       "      <td>...</td>\n",
       "      <td>...</td>\n",
       "      <td>...</td>\n",
       "      <td>...</td>\n",
       "      <td>...</td>\n",
       "      <td>...</td>\n",
       "      <td>...</td>\n",
       "      <td>...</td>\n",
       "      <td>...</td>\n",
       "      <td>...</td>\n",
       "      <td>...</td>\n",
       "      <td>...</td>\n",
       "      <td>...</td>\n",
       "      <td>...</td>\n",
       "      <td>...</td>\n",
       "      <td>...</td>\n",
       "      <td>...</td>\n",
       "      <td>...</td>\n",
       "      <td>...</td>\n",
       "      <td>...</td>\n",
       "      <td>...</td>\n",
       "    </tr>\n",
       "    <tr>\n",
       "      <th>772992</th>\n",
       "      <td>-0.672839</td>\n",
       "      <td>-0.009522</td>\n",
       "      <td>1.593912</td>\n",
       "      <td>-0.015442</td>\n",
       "      <td>-0.336637</td>\n",
       "      <td>0.263434</td>\n",
       "      <td>0.524381</td>\n",
       "      <td>1.450999</td>\n",
       "      <td>-0.073388</td>\n",
       "      <td>1.877515</td>\n",
       "      <td>...</td>\n",
       "      <td>0.140564</td>\n",
       "      <td>-0.863786</td>\n",
       "      <td>0.409866</td>\n",
       "      <td>2.250914</td>\n",
       "      <td>0.739791</td>\n",
       "      <td>1.910757</td>\n",
       "      <td>2.324851</td>\n",
       "      <td>0.728314</td>\n",
       "      <td>1.252344</td>\n",
       "      <td>0.959549</td>\n",
       "    </tr>\n",
       "    <tr>\n",
       "      <th>783107</th>\n",
       "      <td>0.780763</td>\n",
       "      <td>0.353024</td>\n",
       "      <td>-1.901341</td>\n",
       "      <td>-1.812769</td>\n",
       "      <td>0.402564</td>\n",
       "      <td>0.004460</td>\n",
       "      <td>0.329454</td>\n",
       "      <td>-0.072378</td>\n",
       "      <td>-2.294693</td>\n",
       "      <td>1.159211</td>\n",
       "      <td>...</td>\n",
       "      <td>0.031677</td>\n",
       "      <td>0.463469</td>\n",
       "      <td>0.134452</td>\n",
       "      <td>0.537280</td>\n",
       "      <td>0.483558</td>\n",
       "      <td>0.484789</td>\n",
       "      <td>0.790988</td>\n",
       "      <td>0.112736</td>\n",
       "      <td>-0.212100</td>\n",
       "      <td>0.516311</td>\n",
       "    </tr>\n",
       "    <tr>\n",
       "      <th>784722</th>\n",
       "      <td>1.544864</td>\n",
       "      <td>-0.722438</td>\n",
       "      <td>-0.591117</td>\n",
       "      <td>-0.292344</td>\n",
       "      <td>0.491538</td>\n",
       "      <td>0.250683</td>\n",
       "      <td>0.672894</td>\n",
       "      <td>0.135474</td>\n",
       "      <td>0.555915</td>\n",
       "      <td>0.754361</td>\n",
       "      <td>...</td>\n",
       "      <td>-0.565436</td>\n",
       "      <td>0.387815</td>\n",
       "      <td>0.702974</td>\n",
       "      <td>0.713895</td>\n",
       "      <td>0.149978</td>\n",
       "      <td>-1.265221</td>\n",
       "      <td>-0.104946</td>\n",
       "      <td>0.714125</td>\n",
       "      <td>-0.574573</td>\n",
       "      <td>-1.220123</td>\n",
       "    </tr>\n",
       "    <tr>\n",
       "      <th>789797</th>\n",
       "      <td>-0.561025</td>\n",
       "      <td>-0.217302</td>\n",
       "      <td>-0.638256</td>\n",
       "      <td>-0.638256</td>\n",
       "      <td>1.112001</td>\n",
       "      <td>-0.638256</td>\n",
       "      <td>-0.674451</td>\n",
       "      <td>-0.638256</td>\n",
       "      <td>-0.638256</td>\n",
       "      <td>0.861387</td>\n",
       "      <td>...</td>\n",
       "      <td>-0.266452</td>\n",
       "      <td>-0.638256</td>\n",
       "      <td>-0.638256</td>\n",
       "      <td>1.989888</td>\n",
       "      <td>-0.521750</td>\n",
       "      <td>2.481620</td>\n",
       "      <td>-0.331090</td>\n",
       "      <td>1.672402</td>\n",
       "      <td>-0.602061</td>\n",
       "      <td>2.006186</td>\n",
       "    </tr>\n",
       "    <tr>\n",
       "      <th>791785</th>\n",
       "      <td>1.262970</td>\n",
       "      <td>-0.214874</td>\n",
       "      <td>-1.171325</td>\n",
       "      <td>-0.403433</td>\n",
       "      <td>-0.413911</td>\n",
       "      <td>-0.314836</td>\n",
       "      <td>-0.069218</td>\n",
       "      <td>-1.171325</td>\n",
       "      <td>0.816710</td>\n",
       "      <td>-0.845801</td>\n",
       "      <td>...</td>\n",
       "      <td>-0.478613</td>\n",
       "      <td>0.538380</td>\n",
       "      <td>0.514360</td>\n",
       "      <td>-1.050154</td>\n",
       "      <td>0.673128</td>\n",
       "      <td>NaN</td>\n",
       "      <td>-0.971466</td>\n",
       "      <td>-0.347449</td>\n",
       "      <td>-1.171325</td>\n",
       "      <td>0.172301</td>\n",
       "    </tr>\n",
       "  </tbody>\n",
       "</table>\n",
       "<p>269 rows × 60 columns</p>\n",
       "</div>"
      ],
      "text/plain": [
       "            MCF7  MDA_MB_231    HS578T    BT_549      T47D    SF_268  \\\n",
       "740     0.703626   -1.219032 -1.892792 -0.877267 -1.156158  0.510978   \n",
       "752     0.475296   -0.312852 -1.089067 -0.441030 -0.058619  0.057507   \n",
       "755     0.704027   -0.438857 -0.548744 -1.441942  0.496864  0.096265   \n",
       "762     0.547964   -1.033803 -1.399273 -0.538268  1.137432  0.135942   \n",
       "1390    0.517269    0.960399 -1.710657 -0.260192 -0.428596 -2.369012   \n",
       "...          ...         ...       ...       ...       ...       ...   \n",
       "772992 -0.672839   -0.009522  1.593912 -0.015442 -0.336637  0.263434   \n",
       "783107  0.780763    0.353024 -1.901341 -1.812769  0.402564  0.004460   \n",
       "784722  1.544864   -0.722438 -0.591117 -0.292344  0.491538  0.250683   \n",
       "789797 -0.561025   -0.217302 -0.638256 -0.638256  1.112001 -0.638256   \n",
       "791785  1.262970   -0.214874 -1.171325 -0.403433 -0.413911 -0.314836   \n",
       "\n",
       "          SF_295    SF_539    SNB_19    SNB_75  ...      PC_3    DU_145  \\\n",
       "740     0.536910  0.589970 -0.356387 -1.460314  ...  0.626838  0.507493   \n",
       "752     0.125700  0.111693 -3.285729 -0.114051  ... -0.321691  0.507798   \n",
       "755    -0.082186  0.417634 -1.927502 -0.372021  ...  0.123647  0.543639   \n",
       "762    -0.094460  0.562628 -1.398911 -1.050409  ... -0.294845  0.934592   \n",
       "1390    0.224249 -1.481654 -2.369012 -0.950229  ...  0.534589  0.819455   \n",
       "...          ...       ...       ...       ...  ...       ...       ...   \n",
       "772992  0.524381  1.450999 -0.073388  1.877515  ...  0.140564 -0.863786   \n",
       "783107  0.329454 -0.072378 -2.294693  1.159211  ...  0.031677  0.463469   \n",
       "784722  0.672894  0.135474  0.555915  0.754361  ... -0.565436  0.387815   \n",
       "789797 -0.674451 -0.638256 -0.638256  0.861387  ... -0.266452 -0.638256   \n",
       "791785 -0.069218 -1.171325  0.816710 -0.845801  ... -0.478613  0.538380   \n",
       "\n",
       "           786_0      A498      ACHN    CAKI_1   RXF_393     SN12C     TK_10  \\\n",
       "740     0.682664 -0.891882  0.499337  0.541612 -1.400771  0.602244 -1.641942   \n",
       "752     0.384102 -1.314527 -0.318444  0.557175  0.345056 -0.047731  0.155244   \n",
       "755     0.623318 -1.374212 -0.173024  0.314436 -1.002183 -0.881252  0.491364   \n",
       "762     0.591263 -0.552673  1.797227  1.260987  0.172806  0.869675 -0.529810   \n",
       "1390    0.091197 -0.188655  0.800745  1.468891  0.182377 -0.100527  0.519999   \n",
       "...          ...       ...       ...       ...       ...       ...       ...   \n",
       "772992  0.409866  2.250914  0.739791  1.910757  2.324851  0.728314  1.252344   \n",
       "783107  0.134452  0.537280  0.483558  0.484789  0.790988  0.112736 -0.212100   \n",
       "784722  0.702974  0.713895  0.149978 -1.265221 -0.104946  0.714125 -0.574573   \n",
       "789797 -0.638256  1.989888 -0.521750  2.481620 -0.331090  1.672402 -0.602061   \n",
       "791785  0.514360 -1.050154  0.673128       NaN -0.971466 -0.347449 -1.171325   \n",
       "\n",
       "           UO_31  \n",
       "740     0.231533  \n",
       "752    -0.160223  \n",
       "755    -0.183200  \n",
       "762    -0.634413  \n",
       "1390   -0.167908  \n",
       "...          ...  \n",
       "772992  0.959549  \n",
       "783107  0.516311  \n",
       "784722 -1.220123  \n",
       "789797  2.006186  \n",
       "791785  0.172301  \n",
       "\n",
       "[269 rows x 60 columns]"
      ]
     },
     "execution_count": 5,
     "metadata": {},
     "output_type": "execute_result"
    }
   ],
   "source": [
    "drug_response = drug_response[drug_response.index.isin(list(nsc_class.NSC))]\n",
    "drug_response"
   ]
  },
  {
   "cell_type": "code",
   "execution_count": 6,
   "id": "seeing-converter",
   "metadata": {},
   "outputs": [
    {
     "data": {
      "text/plain": [
       "array([[0., 1., 0., ..., 0., 0., 0.],\n",
       "       [0., 0., 0., ..., 0., 0., 0.],\n",
       "       [0., 0., 0., ..., 0., 0., 0.],\n",
       "       ...,\n",
       "       [0., 0., 0., ..., 0., 0., 0.],\n",
       "       [0., 1., 0., ..., 0., 0., 0.],\n",
       "       [0., 0., 0., ..., 0., 0., 0.]], dtype=float32)"
      ]
     },
     "execution_count": 6,
     "metadata": {},
     "output_type": "execute_result"
    }
   ],
   "source": [
    "drug_feature = pd.read_csv('/home/kuangr/inoue019/Drug_Response_Prediction_using_GNN/drug cell association/mfp.csv', index_col=0)\n",
    "feature_drug = np.array(drug_feature, dtype=np.float32)\n",
    "feature_drug"
   ]
  },
  {
   "cell_type": "code",
   "execution_count": null,
   "id": "young-somewhere",
   "metadata": {},
   "outputs": [],
   "source": []
  },
  {
   "cell_type": "code",
   "execution_count": 7,
   "id": "indirect-partnership",
   "metadata": {},
   "outputs": [],
   "source": [
    "train = pd.read_csv('/home/kuangr/inoue019/Drug_Response_Prediction_using_GNN/drug cell association/train.csv', index_col=0)\n",
    "val = pd.read_csv('/home/kuangr/inoue019/Drug_Response_Prediction_using_GNN/drug cell association/val.csv', index_col=0)\n",
    "test = pd.read_csv('/home/kuangr/inoue019/Drug_Response_Prediction_using_GNN/drug cell association/test.csv', index_col=0)"
   ]
  },
  {
   "cell_type": "code",
   "execution_count": 9,
   "id": "modern-float",
   "metadata": {},
   "outputs": [],
   "source": [
    "idxs, cols = list(drug_response.index), list(drug_response.columns)"
   ]
  },
  {
   "cell_type": "code",
   "execution_count": 10,
   "id": "graphic-trademark",
   "metadata": {},
   "outputs": [],
   "source": [
    "def mask(data, rows, cols):\n",
    "    for i, j in zip(rows, cols):\n",
    "        data[j, i] = 0 \n",
    "    return data"
   ]
  },
  {
   "cell_type": "code",
   "execution_count": 11,
   "id": "macro-tutorial",
   "metadata": {
    "scrolled": false
   },
   "outputs": [],
   "source": [
    "cell_drug_ =  drug_response.T.fillna(0)\n",
    "cell_drug = np.array(cell_drug_, dtype=np.float32)"
   ]
  },
  {
   "cell_type": "code",
   "execution_count": 12,
   "id": "magnetic-volleyball",
   "metadata": {},
   "outputs": [],
   "source": [
    "# remove test\n",
    "rows_indices_test = [idxs.index(i) for i in test['Drug']]\n",
    "cols_indices_test = [cols.index(i) for i in test['Cell']]\n",
    "cell_drug_ = mask(cell_drug, rows_indices_test, cols_indices_test)"
   ]
  },
  {
   "cell_type": "code",
   "execution_count": 13,
   "id": "negative-scotland",
   "metadata": {
    "scrolled": true
   },
   "outputs": [],
   "source": [
    "# remove val\n",
    "rows_indices_val = [idxs.index(i) for i in val['Drug']]\n",
    "cols_indices_val = [cols.index(i) for i in val['Cell']]\n",
    "cell_drug_ = mask(cell_drug, rows_indices_val, cols_indices_val)"
   ]
  },
  {
   "cell_type": "code",
   "execution_count": 14,
   "id": "dense-complement",
   "metadata": {},
   "outputs": [
    {
     "data": {
      "text/plain": [
       "4560.0"
      ]
     },
     "execution_count": 14,
     "metadata": {},
     "output_type": "execute_result"
    }
   ],
   "source": [
    "# remove val\n",
    "train_data = (cell_drug > 0).astype(np.float32)\n",
    "np.sum(train_data)"
   ]
  },
  {
   "cell_type": "code",
   "execution_count": 15,
   "id": "consolidated-pioneer",
   "metadata": {},
   "outputs": [
    {
     "data": {
      "text/plain": [
       "7624"
      ]
     },
     "execution_count": 15,
     "metadata": {},
     "output_type": "execute_result"
    }
   ],
   "source": [
    "np.sum((drug_response > 0).values)"
   ]
  },
  {
   "cell_type": "code",
   "execution_count": 16,
   "id": "pursuant-desire",
   "metadata": {},
   "outputs": [],
   "source": [
    "def get_mask(data, rows, cols):\n",
    "    tmp = np.zeros(data.shape)\n",
    "    for i, j in zip(rows, cols):\n",
    "        tmp[i, j] = 1\n",
    "\n",
    "    return torch.tensor(tmp.astype(bool))"
   ]
  },
  {
   "cell_type": "code",
   "execution_count": 17,
   "id": "declared-rabbit",
   "metadata": {
    "scrolled": false
   },
   "outputs": [
    {
     "data": {
      "text/plain": [
       "tensor([[ True, False, False,  ...,  True, False, False],\n",
       "        [False, False,  True,  ..., False,  True, False],\n",
       "        [False, False, False,  ..., False, False, False],\n",
       "        ...,\n",
       "        [ True, False, False,  ..., False, False, False],\n",
       "        [False,  True,  True,  ..., False,  True,  True],\n",
       "        [ True,  True,  True,  ..., False, False, False]])"
      ]
     },
     "execution_count": 17,
     "metadata": {},
     "output_type": "execute_result"
    }
   ],
   "source": [
    "test_mask = get_mask(drug_response, rows_indices_test, cols_indices_test).T\n",
    "test_mask"
   ]
  },
  {
   "cell_type": "code",
   "execution_count": 18,
   "id": "insured-reputation",
   "metadata": {},
   "outputs": [
    {
     "data": {
      "text/plain": [
       "tensor([[1, 0, 0,  ..., 1, 0, 0],\n",
       "        [0, 0, 0,  ..., 0, 0, 0],\n",
       "        [0, 0, 0,  ..., 0, 0, 0],\n",
       "        ...,\n",
       "        [1, 0, 0,  ..., 0, 0, 0],\n",
       "        [0, 1, 1,  ..., 0, 0, 0],\n",
       "        [1, 0, 0,  ..., 0, 0, 0]])"
      ]
     },
     "execution_count": 18,
     "metadata": {},
     "output_type": "execute_result"
    }
   ],
   "source": [
    "test_data = (torch.tensor(drug_response.values > 0, dtype=int).T * test_mask)\n",
    "test_data"
   ]
  },
  {
   "cell_type": "code",
   "execution_count": 19,
   "id": "atlantic-hours",
   "metadata": {
    "scrolled": true
   },
   "outputs": [
    {
     "data": {
      "text/plain": [
       "tensor([[False, False, False,  ..., False,  True, False],\n",
       "        [False,  True, False,  ...,  True, False, False],\n",
       "        [False, False,  True,  ...,  True, False, False],\n",
       "        ...,\n",
       "        [False, False, False,  ..., False, False, False],\n",
       "        [False, False, False,  ..., False, False, False],\n",
       "        [False, False, False,  ..., False,  True, False]])"
      ]
     },
     "execution_count": 19,
     "metadata": {},
     "output_type": "execute_result"
    }
   ],
   "source": [
    "val_mask = get_mask(drug_response, rows_indices_val, cols_indices_val).T\n",
    "val_mask"
   ]
  },
  {
   "cell_type": "code",
   "execution_count": 20,
   "id": "favorite-burden",
   "metadata": {},
   "outputs": [
    {
     "data": {
      "text/plain": [
       "tensor([[0, 0, 0,  ..., 0, 0, 0],\n",
       "        [0, 0, 0,  ..., 0, 0, 0],\n",
       "        [0, 0, 0,  ..., 0, 0, 0],\n",
       "        ...,\n",
       "        [0, 0, 0,  ..., 0, 0, 0],\n",
       "        [0, 0, 0,  ..., 0, 0, 0],\n",
       "        [0, 0, 0,  ..., 0, 1, 0]])"
      ]
     },
     "execution_count": 20,
     "metadata": {},
     "output_type": "execute_result"
    }
   ],
   "source": [
    "val_data = (torch.tensor(drug_response.values > 0, dtype=int).T * val_mask)\n",
    "val_data"
   ]
  },
  {
   "cell_type": "code",
   "execution_count": null,
   "id": "comparable-philosophy",
   "metadata": {},
   "outputs": [],
   "source": []
  },
  {
   "cell_type": "code",
   "execution_count": 21,
   "id": "shaped-generic",
   "metadata": {},
   "outputs": [
    {
     "data": {
      "text/plain": [
       "3114"
      ]
     },
     "execution_count": 21,
     "metadata": {},
     "output_type": "execute_result"
    }
   ],
   "source": [
    "len(torch.masked_select(test_data, test_mask))"
   ]
  },
  {
   "cell_type": "code",
   "execution_count": 22,
   "id": "sonic-isaac",
   "metadata": {},
   "outputs": [],
   "source": [
    "rows_indices_train = [idxs.index(i) for i in train['Drug']]\n",
    "cols_indices_train = [cols.index(i) for i in train['Cell']]"
   ]
  },
  {
   "cell_type": "code",
   "execution_count": 23,
   "id": "casual-hunter",
   "metadata": {},
   "outputs": [
    {
     "data": {
      "text/plain": [
       "tensor([[False,  True,  True,  ..., False, False,  True],\n",
       "        [ True, False, False,  ..., False, False,  True],\n",
       "        [ True,  True, False,  ..., False,  True,  True],\n",
       "        ...,\n",
       "        [False,  True,  True,  ...,  True,  True,  True],\n",
       "        [ True, False, False,  ...,  True, False, False],\n",
       "        [False, False, False,  ...,  True, False,  True]])"
      ]
     },
     "execution_count": 23,
     "metadata": {},
     "output_type": "execute_result"
    }
   ],
   "source": [
    "train_mask = get_mask(drug_response, rows_indices_train, cols_indices_train).T\n",
    "train_mask"
   ]
  },
  {
   "cell_type": "code",
   "execution_count": 24,
   "id": "unable-drawing",
   "metadata": {
    "scrolled": false
   },
   "outputs": [],
   "source": [
    "model = GModel(adj_mat=torch.tensor(train_data), gene=gene, cna=cna, mutation=mutation, sigma=2, k=2, iterates=3,\n",
    "               feature_drug=feature_drug, n_hid1=192, n_hid2=64, alpha=8.70, device=\"cuda\")"
   ]
  },
  {
   "cell_type": "code",
   "execution_count": 25,
   "id": "handled-training",
   "metadata": {},
   "outputs": [],
   "source": [
    "opt = Optimizer(model, torch.tensor(train_data), train_mask, val_data, val_mask, \n",
    "                test_data, test_mask, roc_auc, lr=1e-3, epochs=1000, device=\"cuda\").to(\"cuda\")"
   ]
  },
  {
   "cell_type": "code",
   "execution_count": 26,
   "id": "sophisticated-torture",
   "metadata": {
    "scrolled": false
   },
   "outputs": [
    {
     "name": "stdout",
     "output_type": "stream",
     "text": [
      "epoch:   0 loss:0.823421 auc:0.5234\n",
      "epoch:  20 loss:0.345163 auc:0.8448\n",
      "epoch:  40 loss:0.211115 auc:0.8570\n",
      "epoch:  60 loss:0.160556 auc:0.8664\n",
      "epoch:  80 loss:0.140144 auc:0.8703\n",
      "epoch: 100 loss:0.129941 auc:0.8721\n",
      "epoch: 120 loss:0.124026 auc:0.8732\n",
      "epoch: 140 loss:0.120231 auc:0.8737\n",
      "epoch: 160 loss:0.117616 auc:0.8740\n",
      "epoch: 180 loss:0.115730 auc:0.8742\n",
      "epoch: 200 loss:0.114319 auc:0.8743\n",
      "epoch: 220 loss:0.113237 auc:0.8744\n",
      "epoch: 240 loss:0.112389 auc:0.8744\n",
      "epoch: 260 loss:0.111711 auc:0.8744\n",
      "epoch: 280 loss:0.111160 auc:0.8744\n",
      "epoch: 300 loss:0.110708 auc:0.8743\n",
      "epoch: 320 loss:0.110334 auc:0.8743\n",
      "epoch: 340 loss:0.110023 auc:0.8743\n",
      "epoch: 360 loss:0.109763 auc:0.8743\n",
      "Fit finished.\n"
     ]
    }
   ],
   "source": [
    "epoch, true_data, predict_data, test = opt()"
   ]
  },
  {
   "cell_type": "markdown",
   "id": "southwest-adrian",
   "metadata": {
    "scrolled": true
   },
   "source": [
    "# Val"
   ]
  },
  {
   "cell_type": "code",
   "execution_count": 41,
   "id": "recognized-telephone",
   "metadata": {},
   "outputs": [
    {
     "data": {
      "text/html": [
       "<div>\n",
       "<style scoped>\n",
       "    .dataframe tbody tr th:only-of-type {\n",
       "        vertical-align: middle;\n",
       "    }\n",
       "\n",
       "    .dataframe tbody tr th {\n",
       "        vertical-align: top;\n",
       "    }\n",
       "\n",
       "    .dataframe thead th {\n",
       "        text-align: right;\n",
       "    }\n",
       "</style>\n",
       "<table border=\"1\" class=\"dataframe\">\n",
       "  <thead>\n",
       "    <tr style=\"text-align: right;\">\n",
       "      <th></th>\n",
       "      <th>Accuracy</th>\n",
       "      <th>Precision</th>\n",
       "      <th>Recall</th>\n",
       "      <th>F1 Score</th>\n",
       "      <th>True Positive</th>\n",
       "      <th>True Negative</th>\n",
       "      <th>False Positive</th>\n",
       "      <th>False Negative</th>\n",
       "    </tr>\n",
       "  </thead>\n",
       "  <tbody>\n",
       "    <tr>\n",
       "      <th>0</th>\n",
       "      <td>0.794155</td>\n",
       "      <td>0.786531</td>\n",
       "      <td>0.802333</td>\n",
       "      <td>0.794354</td>\n",
       "      <td>1238</td>\n",
       "      <td>1235</td>\n",
       "      <td>336</td>\n",
       "      <td>305</td>\n",
       "    </tr>\n",
       "  </tbody>\n",
       "</table>\n",
       "</div>"
      ],
      "text/plain": [
       "   Accuracy  Precision    Recall  F1 Score  True Positive  True Negative  \\\n",
       "0  0.794155   0.786531  0.802333  0.794354           1238           1235   \n",
       "\n",
       "   False Positive  False Negative  \n",
       "0             336             305  "
      ]
     },
     "execution_count": 41,
     "metadata": {},
     "output_type": "execute_result"
    }
   ],
   "source": [
    "predict = torch.round(predict_data).squeeze()\n",
    "res = print_binary_classification_metrics(\n",
    "    true_data.cpu().detach().numpy(), predict.cpu().detach().numpy()\n",
    ")\n",
    "res"
   ]
  },
  {
   "cell_type": "markdown",
   "id": "instrumental-single",
   "metadata": {},
   "source": [
    "# Test"
   ]
  },
  {
   "cell_type": "code",
   "execution_count": 45,
   "id": "provincial-recall",
   "metadata": {},
   "outputs": [
    {
     "data": {
      "text/html": [
       "<div>\n",
       "<style scoped>\n",
       "    .dataframe tbody tr th:only-of-type {\n",
       "        vertical-align: middle;\n",
       "    }\n",
       "\n",
       "    .dataframe tbody tr th {\n",
       "        vertical-align: top;\n",
       "    }\n",
       "\n",
       "    .dataframe thead th {\n",
       "        text-align: right;\n",
       "    }\n",
       "</style>\n",
       "<table border=\"1\" class=\"dataframe\">\n",
       "  <thead>\n",
       "    <tr style=\"text-align: right;\">\n",
       "      <th></th>\n",
       "      <th>Accuracy</th>\n",
       "      <th>Precision</th>\n",
       "      <th>Recall</th>\n",
       "      <th>F1 Score</th>\n",
       "      <th>True Positive</th>\n",
       "      <th>True Negative</th>\n",
       "      <th>False Positive</th>\n",
       "      <th>False Negative</th>\n",
       "    </tr>\n",
       "  </thead>\n",
       "  <tbody>\n",
       "    <tr>\n",
       "      <th>0</th>\n",
       "      <td>0.5</td>\n",
       "      <td>0.488064</td>\n",
       "      <td>0.483892</td>\n",
       "      <td>0.485969</td>\n",
       "      <td>736</td>\n",
       "      <td>821</td>\n",
       "      <td>772</td>\n",
       "      <td>785</td>\n",
       "    </tr>\n",
       "  </tbody>\n",
       "</table>\n",
       "</div>"
      ],
      "text/plain": [
       "   Accuracy  Precision    Recall  F1 Score  True Positive  True Negative  \\\n",
       "0       0.5   0.488064  0.483892  0.485969            736            821   \n",
       "\n",
       "   False Positive  False Negative  \n",
       "0             772             785  "
      ]
     },
     "execution_count": 45,
     "metadata": {},
     "output_type": "execute_result"
    }
   ],
   "source": [
    "predict = torch.round(test).squeeze()\n",
    "test_y = np.load('/home/kuangr/inoue019/Drug_Response_Prediction_using_GNN/drug cell association/test_labels.npy')\n",
    "res = print_binary_classification_metrics(\n",
    "    test_y, predict.cpu().detach().numpy()\n",
    ")\n",
    "res"
   ]
  },
  {
   "cell_type": "code",
   "execution_count": 31,
   "id": "given-container",
   "metadata": {},
   "outputs": [
    {
     "data": {
      "text/plain": [
       "3114"
      ]
     },
     "execution_count": 31,
     "metadata": {},
     "output_type": "execute_result"
    }
   ],
   "source": [
    "len(test)"
   ]
  },
  {
   "cell_type": "code",
   "execution_count": null,
   "id": "noticed-begin",
   "metadata": {},
   "outputs": [],
   "source": []
  }
 ],
 "metadata": {
  "kernelspec": {
   "display_name": "py39",
   "language": "python",
   "name": "py39"
  },
  "language_info": {
   "codemirror_mode": {
    "name": "ipython",
    "version": 3
   },
   "file_extension": ".py",
   "mimetype": "text/x-python",
   "name": "python",
   "nbconvert_exporter": "python",
   "pygments_lexer": "ipython3",
   "version": "3.9.17"
  }
 },
 "nbformat": 4,
 "nbformat_minor": 5
}
